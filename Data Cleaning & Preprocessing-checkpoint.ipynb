{
 "cells": [
  {
   "cell_type": "code",
   "execution_count": 26,
   "id": "d9dd1505-1191-4c7e-b303-184ba69b5343",
   "metadata": {},
   "outputs": [],
   "source": [
    "import pandas as pd\n",
    "import numpy as np\n",
    "import seaborn as sns\n",
    "import matplotlib.pyplot as plt\n",
    "from sklearn.preprocessing import LabelEncoder\n",
    "from sklearn.preprocessing import StandardScaler\n",
    "from scipy.stats import zscore"
   ]
  },
  {
   "cell_type": "code",
   "execution_count": 3,
   "id": "dee3a787-6f3c-4924-aae2-0d5019674623",
   "metadata": {},
   "outputs": [
    {
     "data": {
      "text/html": [
       "<div>\n",
       "<style scoped>\n",
       "    .dataframe tbody tr th:only-of-type {\n",
       "        vertical-align: middle;\n",
       "    }\n",
       "\n",
       "    .dataframe tbody tr th {\n",
       "        vertical-align: top;\n",
       "    }\n",
       "\n",
       "    .dataframe thead th {\n",
       "        text-align: right;\n",
       "    }\n",
       "</style>\n",
       "<table border=\"1\" class=\"dataframe\">\n",
       "  <thead>\n",
       "    <tr style=\"text-align: right;\">\n",
       "      <th></th>\n",
       "      <th>CustomerID</th>\n",
       "      <th>Name</th>\n",
       "      <th>Gender</th>\n",
       "      <th>Age</th>\n",
       "      <th>City</th>\n",
       "      <th>Product</th>\n",
       "      <th>Quantity</th>\n",
       "      <th>Price</th>\n",
       "      <th>PurchaseDate</th>\n",
       "      <th>Feedback</th>\n",
       "      <th>LoyaltyScore</th>\n",
       "    </tr>\n",
       "  </thead>\n",
       "  <tbody>\n",
       "    <tr>\n",
       "      <th>0</th>\n",
       "      <td>101</td>\n",
       "      <td>Harold Montoya</td>\n",
       "      <td>Male</td>\n",
       "      <td>63</td>\n",
       "      <td>Lake Carlos</td>\n",
       "      <td>Mobile</td>\n",
       "      <td>5</td>\n",
       "      <td>64064.43</td>\n",
       "      <td>2024-06-25</td>\n",
       "      <td>Good</td>\n",
       "      <td>5.9</td>\n",
       "    </tr>\n",
       "    <tr>\n",
       "      <th>1</th>\n",
       "      <td>102</td>\n",
       "      <td>Renee Peters</td>\n",
       "      <td>Male</td>\n",
       "      <td>58</td>\n",
       "      <td>East Johnshire</td>\n",
       "      <td>Camera</td>\n",
       "      <td>2</td>\n",
       "      <td>4788.15</td>\n",
       "      <td>2023-11-27</td>\n",
       "      <td>Poor</td>\n",
       "      <td>2.3</td>\n",
       "    </tr>\n",
       "    <tr>\n",
       "      <th>2</th>\n",
       "      <td>103</td>\n",
       "      <td>Jesus Austin</td>\n",
       "      <td>Male</td>\n",
       "      <td>50</td>\n",
       "      <td>Emilyberg</td>\n",
       "      <td>Mobile</td>\n",
       "      <td>1</td>\n",
       "      <td>71396.77</td>\n",
       "      <td>2023-11-21</td>\n",
       "      <td>Average</td>\n",
       "      <td>10.0</td>\n",
       "    </tr>\n",
       "    <tr>\n",
       "      <th>3</th>\n",
       "      <td>104</td>\n",
       "      <td>Anthony Green</td>\n",
       "      <td>Female</td>\n",
       "      <td>41</td>\n",
       "      <td>Kevinfort</td>\n",
       "      <td>Tablet</td>\n",
       "      <td>5</td>\n",
       "      <td>73593.82</td>\n",
       "      <td>2025-04-03</td>\n",
       "      <td>Poor</td>\n",
       "      <td>7.7</td>\n",
       "    </tr>\n",
       "    <tr>\n",
       "      <th>4</th>\n",
       "      <td>105</td>\n",
       "      <td>Leah Green</td>\n",
       "      <td>Female</td>\n",
       "      <td>45</td>\n",
       "      <td>Guerraview</td>\n",
       "      <td>Camera</td>\n",
       "      <td>1</td>\n",
       "      <td>5243.61</td>\n",
       "      <td>2023-09-06</td>\n",
       "      <td>Good</td>\n",
       "      <td>2.3</td>\n",
       "    </tr>\n",
       "    <tr>\n",
       "      <th>...</th>\n",
       "      <td>...</td>\n",
       "      <td>...</td>\n",
       "      <td>...</td>\n",
       "      <td>...</td>\n",
       "      <td>...</td>\n",
       "      <td>...</td>\n",
       "      <td>...</td>\n",
       "      <td>...</td>\n",
       "      <td>...</td>\n",
       "      <td>...</td>\n",
       "      <td>...</td>\n",
       "    </tr>\n",
       "    <tr>\n",
       "      <th>381</th>\n",
       "      <td>482</td>\n",
       "      <td>Mackenzie Moran DDS</td>\n",
       "      <td>Male</td>\n",
       "      <td>30</td>\n",
       "      <td>Lambstad</td>\n",
       "      <td>Mobile</td>\n",
       "      <td>2</td>\n",
       "      <td>59913.75</td>\n",
       "      <td>2024-09-24</td>\n",
       "      <td>Good</td>\n",
       "      <td>9.4</td>\n",
       "    </tr>\n",
       "    <tr>\n",
       "      <th>382</th>\n",
       "      <td>483</td>\n",
       "      <td>John Hanson</td>\n",
       "      <td>Female</td>\n",
       "      <td>49</td>\n",
       "      <td>West Carolynstad</td>\n",
       "      <td>Camera</td>\n",
       "      <td>3</td>\n",
       "      <td>61342.49</td>\n",
       "      <td>2025-01-24</td>\n",
       "      <td>Good</td>\n",
       "      <td>6.2</td>\n",
       "    </tr>\n",
       "    <tr>\n",
       "      <th>383</th>\n",
       "      <td>484</td>\n",
       "      <td>Diana Fowler</td>\n",
       "      <td>Male</td>\n",
       "      <td>37</td>\n",
       "      <td>South Douglasfort</td>\n",
       "      <td>Headphones</td>\n",
       "      <td>2</td>\n",
       "      <td>22758.49</td>\n",
       "      <td>2024-02-13</td>\n",
       "      <td>Average</td>\n",
       "      <td>4.8</td>\n",
       "    </tr>\n",
       "    <tr>\n",
       "      <th>384</th>\n",
       "      <td>485</td>\n",
       "      <td>Timothy Woods</td>\n",
       "      <td>Male</td>\n",
       "      <td>59</td>\n",
       "      <td>Lake Phillip</td>\n",
       "      <td>Camera</td>\n",
       "      <td>2</td>\n",
       "      <td>4761.61</td>\n",
       "      <td>2024-06-11</td>\n",
       "      <td>Average</td>\n",
       "      <td>4.8</td>\n",
       "    </tr>\n",
       "    <tr>\n",
       "      <th>385</th>\n",
       "      <td>486</td>\n",
       "      <td>Dr. Scott Chavez</td>\n",
       "      <td>Male</td>\n",
       "      <td>33</td>\n",
       "      <td>Lake Tiffany</td>\n",
       "      <td>Laptop</td>\n",
       "      <td>4</td>\n",
       "      <td>53798.88</td>\n",
       "      <td>2024-08-27</td>\n",
       "      <td>Good</td>\n",
       "      <td>2.6</td>\n",
       "    </tr>\n",
       "  </tbody>\n",
       "</table>\n",
       "<p>386 rows × 11 columns</p>\n",
       "</div>"
      ],
      "text/plain": [
       "     CustomerID                 Name  Gender  Age               City  \\\n",
       "0           101       Harold Montoya    Male   63        Lake Carlos   \n",
       "1           102         Renee Peters    Male   58     East Johnshire   \n",
       "2           103         Jesus Austin    Male   50          Emilyberg   \n",
       "3           104        Anthony Green  Female   41          Kevinfort   \n",
       "4           105           Leah Green  Female   45         Guerraview   \n",
       "..          ...                  ...     ...  ...                ...   \n",
       "381         482  Mackenzie Moran DDS    Male   30           Lambstad   \n",
       "382         483          John Hanson  Female   49   West Carolynstad   \n",
       "383         484         Diana Fowler    Male   37  South Douglasfort   \n",
       "384         485        Timothy Woods    Male   59       Lake Phillip   \n",
       "385         486     Dr. Scott Chavez    Male   33       Lake Tiffany   \n",
       "\n",
       "        Product  Quantity     Price PurchaseDate Feedback  LoyaltyScore  \n",
       "0        Mobile         5  64064.43   2024-06-25     Good           5.9  \n",
       "1        Camera         2   4788.15   2023-11-27     Poor           2.3  \n",
       "2        Mobile         1  71396.77   2023-11-21  Average          10.0  \n",
       "3        Tablet         5  73593.82   2025-04-03     Poor           7.7  \n",
       "4        Camera         1   5243.61   2023-09-06     Good           2.3  \n",
       "..          ...       ...       ...          ...      ...           ...  \n",
       "381      Mobile         2  59913.75   2024-09-24     Good           9.4  \n",
       "382      Camera         3  61342.49   2025-01-24     Good           6.2  \n",
       "383  Headphones         2  22758.49   2024-02-13  Average           4.8  \n",
       "384      Camera         2   4761.61   2024-06-11  Average           4.8  \n",
       "385      Laptop         4  53798.88   2024-08-27     Good           2.6  \n",
       "\n",
       "[386 rows x 11 columns]"
      ]
     },
     "execution_count": 3,
     "metadata": {},
     "output_type": "execute_result"
    }
   ],
   "source": [
    "df = pd.read_excel(r\"C:\\Users\\ABC\\Downloads\\customer_sales_data_clean.xlsx\")\n",
    "df"
   ]
  },
  {
   "cell_type": "code",
   "execution_count": 4,
   "id": "976bd849-03d4-4602-9b48-be7c77224437",
   "metadata": {},
   "outputs": [
    {
     "name": "stdout",
     "output_type": "stream",
     "text": [
      "   CustomerID            Name  Gender  Age            City Product  Quantity  \\\n",
      "0         101  Harold Montoya    Male   63     Lake Carlos  Mobile         5   \n",
      "1         102    Renee Peters    Male   58  East Johnshire  Camera         2   \n",
      "2         103    Jesus Austin    Male   50       Emilyberg  Mobile         1   \n",
      "3         104   Anthony Green  Female   41       Kevinfort  Tablet         5   \n",
      "4         105      Leah Green  Female   45      Guerraview  Camera         1   \n",
      "\n",
      "      Price PurchaseDate Feedback  LoyaltyScore  \n",
      "0  64064.43   2024-06-25     Good           5.9  \n",
      "1   4788.15   2023-11-27     Poor           2.3  \n",
      "2  71396.77   2023-11-21  Average          10.0  \n",
      "3  73593.82   2025-04-03     Poor           7.7  \n",
      "4   5243.61   2023-09-06     Good           2.3  \n"
     ]
    }
   ],
   "source": [
    "print(df.head())"
   ]
  },
  {
   "cell_type": "code",
   "execution_count": 5,
   "id": "db6ca88c-04f6-421c-a8b1-eaf2631f44be",
   "metadata": {},
   "outputs": [
    {
     "name": "stdout",
     "output_type": "stream",
     "text": [
      "🔍 Data Types & Null Counts:\n",
      "<class 'pandas.core.frame.DataFrame'>\n",
      "RangeIndex: 386 entries, 0 to 385\n",
      "Data columns (total 11 columns):\n",
      " #   Column        Non-Null Count  Dtype         \n",
      "---  ------        --------------  -----         \n",
      " 0   CustomerID    386 non-null    int64         \n",
      " 1   Name          386 non-null    object        \n",
      " 2   Gender        386 non-null    object        \n",
      " 3   Age           386 non-null    int64         \n",
      " 4   City          386 non-null    object        \n",
      " 5   Product       386 non-null    object        \n",
      " 6   Quantity      386 non-null    int64         \n",
      " 7   Price         386 non-null    float64       \n",
      " 8   PurchaseDate  386 non-null    datetime64[ns]\n",
      " 9   Feedback      386 non-null    object        \n",
      " 10  LoyaltyScore  386 non-null    float64       \n",
      "dtypes: datetime64[ns](1), float64(2), int64(3), object(5)\n",
      "memory usage: 33.3+ KB\n",
      "None\n"
     ]
    }
   ],
   "source": [
    "print(\"🔍 Data Types & Null Counts:\")\n",
    "print(df.info())"
   ]
  },
  {
   "cell_type": "code",
   "execution_count": 6,
   "id": "7ace2c95-7254-4202-9a3e-02de6009f781",
   "metadata": {},
   "outputs": [
    {
     "name": "stdout",
     "output_type": "stream",
     "text": [
      "\n",
      "📊 Null Values:\n",
      "CustomerID      0\n",
      "Name            0\n",
      "Gender          0\n",
      "Age             0\n",
      "City            0\n",
      "Product         0\n",
      "Quantity        0\n",
      "Price           0\n",
      "PurchaseDate    0\n",
      "Feedback        0\n",
      "LoyaltyScore    0\n",
      "dtype: int64\n"
     ]
    }
   ],
   "source": [
    "print(\"\\n📊 Null Values:\")\n",
    "print(df.isnull().sum())"
   ]
  },
  {
   "cell_type": "code",
   "execution_count": 7,
   "id": "cbe18bb4-9ae4-47c4-8e79-40c7a622cd56",
   "metadata": {},
   "outputs": [
    {
     "name": "stdout",
     "output_type": "stream",
     "text": [
      "\n",
      "🧮 Dataset Shape:\n",
      "(386, 11)\n"
     ]
    }
   ],
   "source": [
    "print(\"\\n🧮 Dataset Shape:\")\n",
    "print(df.shape)"
   ]
  },
  {
   "cell_type": "code",
   "execution_count": 20,
   "id": "46010854-8cd7-43b8-ad37-791e0021f4e6",
   "metadata": {},
   "outputs": [
    {
     "name": "stdout",
     "output_type": "stream",
     "text": [
      "✅ Missing values handled.\n",
      "CustomerID      0\n",
      "Age             0\n",
      "Quantity        0\n",
      "Price           0\n",
      "LoyaltyScore    0\n",
      "dtype: int64\n"
     ]
    }
   ],
   "source": [
    "num_cols = df.select_dtypes(include=np.number).columns\n",
    "\n",
    "for col in num_cols:\n",
    "    df[num_cols] = df[num_cols].fillna(df[num_cols].median())  \n",
    "print(\"✅ Missing values handled.\")    \n",
    "print(df[num_cols].isnull().sum())"
   ]
  },
  {
   "cell_type": "code",
   "execution_count": 19,
   "id": "9c212988-d0f7-4ae3-b841-8c05c87362ac",
   "metadata": {},
   "outputs": [
    {
     "name": "stdout",
     "output_type": "stream",
     "text": [
      "✅ Missing values handled.\n",
      "Name        0\n",
      "Gender      0\n",
      "City        0\n",
      "Product     0\n",
      "Feedback    0\n",
      "dtype: int64\n"
     ]
    }
   ],
   "source": [
    "cat_cols = df.select_dtypes(include='object').columns\n",
    "\n",
    "for col in cat_cols:\n",
    "    df[cat_cols] = df[cat_cols].apply(lambda s: s.fillna(s.mode().iat[0]))\n",
    "print(\"✅ Missing values handled.\")\n",
    "print(df[cat_cols].isnull().sum())"
   ]
  },
  {
   "cell_type": "code",
   "execution_count": 22,
   "id": "4120fc91-b902-4cdf-93a7-c7b6607cb2f9",
   "metadata": {},
   "outputs": [
    {
     "name": "stdout",
     "output_type": "stream",
     "text": [
      "✅ Categorical columns encoded.\n"
     ]
    }
   ],
   "source": [
    "le = LabelEncoder()\n",
    "for col in cat_cols:\n",
    "    df[col] = le.fit_transform(df[col])\n",
    "\n",
    "print(\"✅ Categorical columns encoded.\")"
   ]
  },
  {
   "cell_type": "code",
   "execution_count": 24,
   "id": "aab069b2-745b-4450-84a3-260212a991ef",
   "metadata": {},
   "outputs": [
    {
     "name": "stdout",
     "output_type": "stream",
     "text": [
      "📐 Numerical columns normalized.\n"
     ]
    }
   ],
   "source": [
    "scaler = StandardScaler()\n",
    "df[num_cols] = scaler.fit_transform(df[num_cols])\n",
    "\n",
    "print(\"📐 Numerical columns normalized.\")"
   ]
  },
  {
   "cell_type": "code",
   "execution_count": 25,
   "id": "e0900474-ba62-449a-a7c0-c7734b2f42f1",
   "metadata": {},
   "outputs": [
    {
     "data": {
      "image/png": "[encoded data removed]",
      "text/plain": [
       "<Figure size 1200x600 with 1 Axes>"
      ]
     },
     "metadata": {},
     "output_type": "display_data"
    }
   ],
   "source": [
    "plt.figure(figsize=(12, 6))\n",
    "sns.boxplot(data=df[num_cols])\n",
    "plt.title(\"Boxplots to Detect Outliers\")\n",
    "plt.xticks(rotation=45)\n",
    "plt.show()"
   ]
  },
  {
   "cell_type": "code",
   "execution_count": 27,
   "id": "6a4eeca3-1883-4f7d-93b9-d2aa1686658a",
   "metadata": {},
   "outputs": [
    {
     "name": "stdout",
     "output_type": "stream",
     "text": [
      "✅ Outliers removed. New shape: (386, 11)\n"
     ]
    }
   ],
   "source": [
    "z_scores = np.abs(zscore(df[num_cols]))\n",
    "df = df[(z_scores < 3).all(axis=1)]\n",
    "\n",
    "print(f\"✅ Outliers removed. New shape: {df.shape}\")"
   ]
  },
  {
   "cell_type": "code",
   "execution_count": 28,
   "id": "b42d04ab-953f-4a02-a41c-2f7ce58f99b1",
   "metadata": {},
   "outputs": [
    {
     "name": "stdout",
     "output_type": "stream",
     "text": [
      "🎯 Cleaned Dataset:\n",
      "   CustomerID  Name  Gender       Age  City  Product  Quantity     Price  \\\n",
      "0   -1.727569   137       1  1.574638   143        3  1.408619  0.512325   \n",
      "1   -1.718595   325       1  1.206937    55        0 -0.751885 -1.641021   \n",
      "2   -1.709621   172       1  0.618615    83        3 -1.472053  0.778688   \n",
      "3   -1.700646    25       0 -0.043248   130        4  1.408619  0.858501   \n",
      "4   -1.691672   226       0  0.250913    94        0 -1.472053 -1.624475   \n",
      "\n",
      "  PurchaseDate  Feedback  LoyaltyScore  \n",
      "0   2024-06-25         1      0.140296  \n",
      "1   2023-11-27         2     -1.229730  \n",
      "2   2023-11-21         0      1.700603  \n",
      "3   2025-04-03         2      0.825308  \n",
      "4   2023-09-06         1     -1.229730  \n"
     ]
    }
   ],
   "source": [
    "print(\"🎯 Cleaned Dataset:\")\n",
    "print(df.head())"
   ]
  },
  {
   "cell_type": "code",
   "execution_count": null,
   "id": "77f1dd48-2fe3-4d4d-8725-c04bf960f78d",
   "metadata": {},
   "outputs": [],
   "source": []
  }
 ],
 "metadata": {
  "kernelspec": {
   "display_name": "Python 3 (ipykernel)",
   "language": "python",
   "name": "python3"
  },
  "language_info": {
   "codemirror_mode": {
    "name": "ipython",
    "version": 3
   },
   "file_extension": ".py",
   "mimetype": "text/x-python",
   "name": "python",
   "nbconvert_exporter": "python",
   "pygments_lexer": "ipython3",
   "version": "3.12.7"
  }
 },
 "nbformat": 4,
 "nbformat_minor": 5
}
